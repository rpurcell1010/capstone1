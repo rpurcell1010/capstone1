{
 "cells": [
  {
   "cell_type": "code",
   "execution_count": 38,
   "metadata": {},
   "outputs": [
    {
     "name": "stdout",
     "output_type": "stream",
     "text": [
      "<class 'pandas.core.frame.DataFrame'>\n",
      "Int64Index: 230721 entries, 0 to 42537\n",
      "Data columns (total 50 columns):\n",
      "id                            5 non-null object\n",
      "member_id                     0 non-null float64\n",
      "loan_amnt                     230716 non-null float64\n",
      "funded_amnt                   230716 non-null float64\n",
      "funded_amnt_inv               230716 non-null float64\n",
      "term                          230716 non-null object\n",
      "int_rate                      230716 non-null object\n",
      "installment                   230716 non-null float64\n",
      "grade                         230716 non-null object\n",
      "sub_grade                     230716 non-null object\n",
      "emp_title                     216353 non-null object\n",
      "emp_length                    221717 non-null object\n",
      "home_ownership                230716 non-null object\n",
      "annual_inc                    230712 non-null float64\n",
      "verification_status           230716 non-null object\n",
      "issue_d                       230716 non-null object\n",
      "loan_status                   230716 non-null object\n",
      "pymnt_plan                    230716 non-null object\n",
      "url                           0 non-null float64\n",
      "desc                          110720 non-null object\n",
      "purpose                       230716 non-null object\n",
      "title                         230696 non-null object\n",
      "zip_code                      230716 non-null object\n",
      "addr_state                    230716 non-null object\n",
      "dti                           230716 non-null float64\n",
      "delinq_2yrs                   230687 non-null float64\n",
      "earliest_cr_line              230687 non-null object\n",
      "inq_last_6mths                230687 non-null float64\n",
      "mths_since_last_delinq        96217 non-null float64\n",
      "mths_since_last_record        21125 non-null float64\n",
      "open_acc                      230687 non-null float64\n",
      "pub_rec                       230687 non-null float64\n",
      "revol_bal                     230716 non-null float64\n",
      "revol_util                    230501 non-null object\n",
      "total_acc                     230687 non-null float64\n",
      "initial_list_status           230716 non-null object\n",
      "out_prncp                     230716 non-null float64\n",
      "out_prncp_inv                 230716 non-null float64\n",
      "total_pymnt                   230716 non-null float64\n",
      "total_pymnt_inv               230716 non-null float64\n",
      "total_rec_prncp               230716 non-null float64\n",
      "total_rec_int                 230716 non-null float64\n",
      "total_rec_late_fee            230716 non-null float64\n",
      "recoveries                    230716 non-null float64\n",
      "collection_recovery_fee       230716 non-null float64\n",
      "last_pymnt_d                  230483 non-null object\n",
      "last_pymnt_amnt               230716 non-null float64\n",
      "next_pymnt_d                  11293 non-null object\n",
      "last_credit_pull_d            230702 non-null object\n",
      "collections_12_mths_ex_med    230571 non-null float64\n",
      "dtypes: float64(27), object(23)\n",
      "memory usage: 89.8+ MB\n"
     ]
    }
   ],
   "source": [
    "import glob\n",
    "import pandas as pd\n",
    "\n",
    "path ='/Users/ryanpurcell/Desktop/LendingClub Combined Data/' # use your path\n",
    "allFiles = glob.glob(path + \"/*.csv\")\n",
    "frame = pd.DataFrame()\n",
    "list_ = []\n",
    "for file_ in allFiles:\n",
    "    df = pd.read_csv(file_,index_col=None, header=0,usecols=[*range(0,50)], encoding = \"ISO-8859-1\", low_memory = False,skiprows=[0])\n",
    "    list_.append(df)\n",
    "df= pd.concat(list_)\n",
    "df.info()"
   ]
  },
  {
   "cell_type": "code",
   "execution_count": 39,
   "metadata": {
    "collapsed": true
   },
   "outputs": [],
   "source": [
    "#df filter for 36 month term\n",
    "#df['term']=df['term'].astype('str')\n",
    "#termfilter= df['term'].str.contains('36')\n",
    "#df=df.loc[termfilter]"
   ]
  },
  {
   "cell_type": "code",
   "execution_count": 40,
   "metadata": {
    "collapsed": true
   },
   "outputs": [],
   "source": [
    "#gradefilter=df['grade']=='A'\n",
    "#df=df[gradefilter]"
   ]
  },
  {
   "cell_type": "code",
   "execution_count": 41,
   "metadata": {
    "collapsed": true
   },
   "outputs": [],
   "source": [
    "#from datetime import datetime, timedelta\n",
    "\n",
    "#df['A'] = pd.to_datetime(df['last_pymnt_d'])\n",
    "#df['A'].dtypes"
   ]
  },
  {
   "cell_type": "code",
   "execution_count": 42,
   "metadata": {
    "collapsed": true
   },
   "outputs": [],
   "source": [
    "#df['B'] = pd.to_datetime(df['issue_d'])\n",
    "#df['B'].dtypes"
   ]
  },
  {
   "cell_type": "code",
   "execution_count": 43,
   "metadata": {
    "collapsed": true
   },
   "outputs": [],
   "source": [
    "#df['Difference'] = df['A'] - df['B']"
   ]
  },
  {
   "cell_type": "code",
   "execution_count": 44,
   "metadata": {
    "collapsed": true
   },
   "outputs": [],
   "source": [
    "#datefilter=df['Difference']<timedelta(days=180)"
   ]
  },
  {
   "cell_type": "code",
   "execution_count": 45,
   "metadata": {},
   "outputs": [
    {
     "name": "stdout",
     "output_type": "stream",
     "text": [
      "['>$50K-$100K', '<=$50K', '>$100K-$200K', '>$200K']\n",
      "[1694423575, 762433725, 626444825, 77671000]\n"
     ]
    }
   ],
   "source": [
    "import numpy as np\n",
    "df = df.assign(PopGroup=pd.cut(df.annual_inc,bins=[0,50000,100000,200000,np.inf],labels=['<=$50K','>$50K-$100K','>$100K-$200K','>$200K']))\n",
    "a6=pd.pivot_table(df, index='PopGroup',values='funded_amnt', aggfunc=sum,fill_value=0).sort_values(by=['funded_amnt'],ascending = False)\n",
    "c6=a6.reset_index()\n",
    "d6=c6['PopGroup']\n",
    "b6=c6['funded_amnt']\n",
    "print(list(d6))\n",
    "print(list(b6))"
   ]
  },
  {
   "cell_type": "code",
   "execution_count": 46,
   "metadata": {},
   "outputs": [
    {
     "data": {
      "text/plain": [
       "36908     200004.0\n",
       "154575    200004.0\n",
       "35092     200004.0\n",
       "28819     200004.0\n",
       "14574     200004.0\n",
       "Name: annual_inc, dtype: float64"
      ]
     },
     "execution_count": 46,
     "metadata": {},
     "output_type": "execute_result"
    }
   ],
   "source": [
    "#df[['PopGroup','annual_inc']]\n",
    "filter1 = df['PopGroup'] == '>$200K'\n",
    "df[filter1]['annual_inc'].sort_values().head()"
   ]
  },
  {
   "cell_type": "code",
   "execution_count": 47,
   "metadata": {},
   "outputs": [
    {
     "data": {
      "image/png": "[encoded data removed]",
      "text/plain": [
       "<matplotlib.figure.Figure at 0x115fe64a8>"
      ]
     },
     "metadata": {},
     "output_type": "display_data"
    }
   ],
   "source": [
    "import matplotlib.pyplot as plt\n",
    " \n",
    "# Data to plot\n",
    "labels = list(d6)\n",
    "sizes = list(b6)\n",
    "colors = ['gold', 'yellowgreen', 'lightcoral', 'lightskyblue','palegreen','bisque','mediumturquoise','cadetblue','magenta','crimson','goldenrod']\n",
    "#explode = (0.1, 0, 0, 0)  # explode 1st slice\n",
    " \n",
    "# Plot\n",
    "plt.pie(sizes, labels=labels, colors=colors,\n",
    "        autopct='%1.1f%%', shadow=True, startangle=140)\n",
    "plt.subplots_adjust(top=1.4, bottom=.1, left=.1, right=1, hspace=1,\n",
    "                    wspace=.5)\n",
    "\n",
    "plt.rcParams.update({'font.size': 12})\n",
    " \n",
    "plt.axis('equal')\n",
    "plt.title('Loans by Income')\n",
    "plt.show()"
   ]
  },
  {
   "cell_type": "code",
   "execution_count": 48,
   "metadata": {},
   "outputs": [
    {
     "data": {
      "text/html": [
       "<div>\n",
       "<style scoped>\n",
       "    .dataframe tbody tr th:only-of-type {\n",
       "        vertical-align: middle;\n",
       "    }\n",
       "\n",
       "    .dataframe tbody tr th {\n",
       "        vertical-align: top;\n",
       "    }\n",
       "\n",
       "    .dataframe thead th {\n",
       "        text-align: right;\n",
       "    }\n",
       "</style>\n",
       "<table border=\"1\" class=\"dataframe\">\n",
       "  <thead>\n",
       "    <tr style=\"text-align: right;\">\n",
       "      <th></th>\n",
       "      <th>PopGroup</th>\n",
       "      <th>funded_amnt</th>\n",
       "    </tr>\n",
       "  </thead>\n",
       "  <tbody>\n",
       "    <tr>\n",
       "      <th>0</th>\n",
       "      <td>&lt;=$50K</td>\n",
       "      <td>81195</td>\n",
       "    </tr>\n",
       "    <tr>\n",
       "      <th>1</th>\n",
       "      <td>&gt;$50K-$100K</td>\n",
       "      <td>113529</td>\n",
       "    </tr>\n",
       "    <tr>\n",
       "      <th>2</th>\n",
       "      <td>&gt;$100K-$200K</td>\n",
       "      <td>32581</td>\n",
       "    </tr>\n",
       "    <tr>\n",
       "      <th>3</th>\n",
       "      <td>&gt;$200K</td>\n",
       "      <td>3407</td>\n",
       "    </tr>\n",
       "  </tbody>\n",
       "</table>\n",
       "</div>"
      ],
      "text/plain": [
       "       PopGroup  funded_amnt\n",
       "0        <=$50K        81195\n",
       "1   >$50K-$100K       113529\n",
       "2  >$100K-$200K        32581\n",
       "3        >$200K         3407"
      ]
     },
     "execution_count": 48,
     "metadata": {},
     "output_type": "execute_result"
    }
   ],
   "source": [
    "df.groupby(['PopGroup'])['funded_amnt'].count().reset_index()"
   ]
  },
  {
   "cell_type": "code",
   "execution_count": 49,
   "metadata": {},
   "outputs": [
    {
     "data": {
      "text/html": [
       "<div>\n",
       "<style scoped>\n",
       "    .dataframe tbody tr th:only-of-type {\n",
       "        vertical-align: middle;\n",
       "    }\n",
       "\n",
       "    .dataframe tbody tr th {\n",
       "        vertical-align: top;\n",
       "    }\n",
       "\n",
       "    .dataframe thead th {\n",
       "        text-align: right;\n",
       "    }\n",
       "</style>\n",
       "<table border=\"1\" class=\"dataframe\">\n",
       "  <thead>\n",
       "    <tr style=\"text-align: right;\">\n",
       "      <th></th>\n",
       "      <th>PopGroup</th>\n",
       "      <th>funded_amnt</th>\n",
       "    </tr>\n",
       "  </thead>\n",
       "  <tbody>\n",
       "    <tr>\n",
       "      <th>0</th>\n",
       "      <td>&lt;=$50K</td>\n",
       "      <td>0.18</td>\n",
       "    </tr>\n",
       "    <tr>\n",
       "      <th>1</th>\n",
       "      <td>&gt;$50K-$100K</td>\n",
       "      <td>0.14</td>\n",
       "    </tr>\n",
       "    <tr>\n",
       "      <th>2</th>\n",
       "      <td>&gt;$100K-$200K</td>\n",
       "      <td>0.11</td>\n",
       "    </tr>\n",
       "    <tr>\n",
       "      <th>3</th>\n",
       "      <td>&gt;$200K</td>\n",
       "      <td>0.10</td>\n",
       "    </tr>\n",
       "  </tbody>\n",
       "</table>\n",
       "</div>"
      ],
      "text/plain": [
       "       PopGroup  funded_amnt\n",
       "0        <=$50K         0.18\n",
       "1   >$50K-$100K         0.14\n",
       "2  >$100K-$200K         0.11\n",
       "3        >$200K         0.10"
      ]
     },
     "execution_count": 49,
     "metadata": {},
     "output_type": "execute_result"
    }
   ],
   "source": [
    "#Charge Off Probability\n",
    "Total=df.groupby(['PopGroup'])['funded_amnt'].count()\n",
    "df1=df[(df.loan_status=='Charged Off')]\n",
    "df2=df1.groupby(['PopGroup'])['funded_amnt'].count()\n",
    "df3=(df2/Total).round(2)\n",
    "df4=df3.reset_index()\n",
    "df4=df4.sort_values(by=['funded_amnt'],ascending = False)\n",
    "purpose = df4['PopGroup']\n",
    "CO=df4['funded_amnt']\n",
    "df4\n",
    "#find out how to name the columns\n",
    "#sort by default"
   ]
  },
  {
   "cell_type": "code",
   "execution_count": 50,
   "metadata": {
    "collapsed": true
   },
   "outputs": [],
   "source": [
    "def format_func(value, tick_number): \n",
    "    # find number of multiples of pi/2 \n",
    "    N = int(np.round(value*100)) \n",
    "    if N > 0: \n",
    "        return \"{:}%\".format(N) #// 2) \n",
    "    else: \n",
    "        return 0\n",
    "    ax.xaxis.set_major_formatter(plt.FuncFormatter(format_func))"
   ]
  },
  {
   "cell_type": "code",
   "execution_count": 51,
   "metadata": {},
   "outputs": [
    {
     "data": {
      "image/png": "[encoded data removed]",
      "text/plain": [
       "<matplotlib.figure.Figure at 0x115a79518>"
      ]
     },
     "metadata": {},
     "output_type": "display_data"
    }
   ],
   "source": [
    "import matplotlib.pyplot as plt\n",
    "import numpy as np\n",
    "\n",
    "# Fixing random state for reproducibility\n",
    "#np.random.seed(19680801)\n",
    "\n",
    "plt.rcdefaults()\n",
    "fig, ax = plt.subplots()\n",
    "\n",
    "# Example data\n",
    "people = purpose\n",
    "y_pos = np.arange(len(people))\n",
    "performance = CO\n",
    "error = np.random.rand(len(people))\n",
    "\n",
    "ax.barh(y_pos, performance, color = 'green', )#xerr=error, align='center')\n",
    "        #color='green',ecolor='black')\n",
    "ax.set_yticks(y_pos)\n",
    "ax.set_yticklabels(people)\n",
    "ax.invert_yaxis()  # labels read top-to-bottom\n",
    "ax.set_xlabel('Default Rate')\n",
    "#ax.set_title('Default Rate by Loan Purpose')\n",
    "ax.set_xlim(0,.2)\n",
    "#plt.axvline(0.05, color='gray')\n",
    "ax.xaxis.set_major_formatter(plt.FuncFormatter(format_func))\n",
    "plt.title('Default Rate by Income')\n",
    "plt.show()"
   ]
  },
  {
   "cell_type": "code",
   "execution_count": 52,
   "metadata": {
    "collapsed": true
   },
   "outputs": [],
   "source": [
    "df['performance']=(df['total_pymnt']/df['funded_amnt'])-1"
   ]
  },
  {
   "cell_type": "code",
   "execution_count": 53,
   "metadata": {},
   "outputs": [
    {
     "data": {
      "text/plain": [
       "Ttest_indResult(statistic=26.968329185787717, pvalue=6.1714870751885561e-160)"
      ]
     },
     "execution_count": 53,
     "metadata": {},
     "output_type": "execute_result"
    }
   ],
   "source": [
    "#df filter for 36 month term\n",
    "termfilterPurpose1= df['PopGroup'] == '<=$50K'\n",
    "termfilterPurpose2= df['PopGroup'] != '<=$50K'\n",
    "dfPurpose1=df.loc[termfilterPurpose1]\n",
    "dfPurpose2=df.loc[termfilterPurpose2]\n",
    "\n",
    "pf = dfPurpose1['performance']\n",
    "pf1=dfPurpose2['performance']\n",
    "\n",
    "import scipy.stats as st\n",
    "st.ttest_ind(pf1.dropna(),pf.dropna())"
   ]
  },
  {
   "cell_type": "code",
   "execution_count": 54,
   "metadata": {},
   "outputs": [
    {
     "data": {
      "text/plain": [
       "0.09278818595311462"
      ]
     },
     "execution_count": 54,
     "metadata": {},
     "output_type": "execute_result"
    }
   ],
   "source": [
    "dfPurpose1['performance'].mean()"
   ]
  },
  {
   "cell_type": "code",
   "execution_count": 55,
   "metadata": {},
   "outputs": [
    {
     "data": {
      "text/plain": [
       "0.12348024675337062"
      ]
     },
     "execution_count": 55,
     "metadata": {},
     "output_type": "execute_result"
    }
   ],
   "source": [
    "dfPurpose2['performance'].mean()"
   ]
  },
  {
   "cell_type": "code",
   "execution_count": null,
   "metadata": {
    "collapsed": true
   },
   "outputs": [],
   "source": []
  }
 ],
 "metadata": {
  "kernelspec": {
   "display_name": "Python 3",
   "language": "python",
   "name": "python3"
  },
  "language_info": {
   "codemirror_mode": {
    "name": "ipython",
    "version": 3
   },
   "file_extension": ".py",
   "mimetype": "text/x-python",
   "name": "python",
   "nbconvert_exporter": "python",
   "pygments_lexer": "ipython3",
   "version": "3.6.3"
  }
 },
 "nbformat": 4,
 "nbformat_minor": 2
}
