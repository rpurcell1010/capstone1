{
 "cells": [
  {
   "cell_type": "code",
   "execution_count": 16,
   "metadata": {},
   "outputs": [
    {
     "name": "stdout",
     "output_type": "stream",
     "text": [
      "<class 'pandas.core.frame.DataFrame'>\n",
      "Int64Index: 230721 entries, 0 to 42537\n",
      "Data columns (total 50 columns):\n",
      "id                            5 non-null object\n",
      "member_id                     0 non-null float64\n",
      "loan_amnt                     230716 non-null float64\n",
      "funded_amnt                   230716 non-null float64\n",
      "funded_amnt_inv               230716 non-null float64\n",
      "term                          230716 non-null object\n",
      "int_rate                      230716 non-null object\n",
      "installment                   230716 non-null float64\n",
      "grade                         230716 non-null object\n",
      "sub_grade                     230716 non-null object\n",
      "emp_title                     216353 non-null object\n",
      "emp_length                    221717 non-null object\n",
      "home_ownership                230716 non-null object\n",
      "annual_inc                    230712 non-null float64\n",
      "verification_status           230716 non-null object\n",
      "issue_d                       230716 non-null object\n",
      "loan_status                   230716 non-null object\n",
      "pymnt_plan                    230716 non-null object\n",
      "url                           0 non-null float64\n",
      "desc                          110720 non-null object\n",
      "purpose                       230716 non-null object\n",
      "title                         230696 non-null object\n",
      "zip_code                      230716 non-null object\n",
      "addr_state                    230716 non-null object\n",
      "dti                           230716 non-null float64\n",
      "delinq_2yrs                   230687 non-null float64\n",
      "earliest_cr_line              230687 non-null object\n",
      "inq_last_6mths                230687 non-null float64\n",
      "mths_since_last_delinq        96217 non-null float64\n",
      "mths_since_last_record        21125 non-null float64\n",
      "open_acc                      230687 non-null float64\n",
      "pub_rec                       230687 non-null float64\n",
      "revol_bal                     230716 non-null float64\n",
      "revol_util                    230501 non-null object\n",
      "total_acc                     230687 non-null float64\n",
      "initial_list_status           230716 non-null object\n",
      "out_prncp                     230716 non-null float64\n",
      "out_prncp_inv                 230716 non-null float64\n",
      "total_pymnt                   230716 non-null float64\n",
      "total_pymnt_inv               230716 non-null float64\n",
      "total_rec_prncp               230716 non-null float64\n",
      "total_rec_int                 230716 non-null float64\n",
      "total_rec_late_fee            230716 non-null float64\n",
      "recoveries                    230716 non-null float64\n",
      "collection_recovery_fee       230716 non-null float64\n",
      "last_pymnt_d                  230483 non-null object\n",
      "last_pymnt_amnt               230716 non-null float64\n",
      "next_pymnt_d                  11293 non-null object\n",
      "last_credit_pull_d            230702 non-null object\n",
      "collections_12_mths_ex_med    230571 non-null float64\n",
      "dtypes: float64(27), object(23)\n",
      "memory usage: 89.8+ MB\n"
     ]
    }
   ],
   "source": [
    "import glob\n",
    "import pandas as pd\n",
    "\n",
    "path ='/Users/ryanpurcell/Desktop/LendingClub Combined Data/' # use your path\n",
    "allFiles = glob.glob(path + \"/*.csv\")\n",
    "frame = pd.DataFrame()\n",
    "list_ = []\n",
    "for file_ in allFiles:\n",
    "    df = pd.read_csv(file_,index_col=None, header=0,usecols=[*range(0,50)], encoding = \"ISO-8859-1\", low_memory = False,skiprows=[0])\n",
    "    list_.append(df)\n",
    "df= pd.concat(list_)\n",
    "df.info()"
   ]
  },
  {
   "cell_type": "code",
   "execution_count": 3,
   "metadata": {},
   "outputs": [
    {
     "ename": "NameError",
     "evalue": "name 'df1' is not defined",
     "output_type": "error",
     "traceback": [
      "\u001b[0;31m---------------------------------------------------------------------------\u001b[0m",
      "\u001b[0;31mNameError\u001b[0m                                 Traceback (most recent call last)",
      "\u001b[0;32m<ipython-input-3-c462e67caffc>\u001b[0m in \u001b[0;36m<module>\u001b[0;34m()\u001b[0m\n\u001b[0;32m----> 1\u001b[0;31m \u001b[0mdf1\u001b[0m\u001b[0;34m.\u001b[0m\u001b[0minfo\u001b[0m\u001b[0;34m(\u001b[0m\u001b[0;34m)\u001b[0m\u001b[0;34m\u001b[0m\u001b[0m\n\u001b[0m",
      "\u001b[0;31mNameError\u001b[0m: name 'df1' is not defined"
     ]
    }
   ],
   "source": [
    "#df1.info()"
   ]
  },
  {
   "cell_type": "code",
   "execution_count": 4,
   "metadata": {},
   "outputs": [
    {
     "data": {
      "text/plain": [
       "grade\n",
       "A    0.071429\n",
       "B    0.071429\n",
       "C    0.071429\n",
       "D    0.500000\n",
       "E    0.214286\n",
       "F    0.071429\n",
       "Name: grade, dtype: float64"
      ]
     },
     "execution_count": 4,
     "metadata": {},
     "output_type": "execute_result"
    }
   ],
   "source": [
    "filter1=df['addr_state']=='NE'\n",
    "df1=df[filter1]\n",
    "df2=df1.groupby('grade')['grade'].count()\n",
    "df3=df1.groupby('grade')['grade'].count()/df2.sum()\n",
    "df1['addr_state']\n",
    "df3"
   ]
  },
  {
   "cell_type": "code",
   "execution_count": null,
   "metadata": {
    "collapsed": true
   },
   "outputs": [],
   "source": [
    "#df filter for 36 month term\n",
    "#df['term']=df['term'].astype('str')\n",
    "#termfilter= df['term'].str.contains('36')\n",
    "#df1=df.loc[termfilter]\n",
    "#df2=df1.groupby('grade')['grade'].count()\n",
    "#df3=df1.groupby('grade')['grade'].count()/df2.sum()\n",
    "#df3"
   ]
  },
  {
   "cell_type": "code",
   "execution_count": null,
   "metadata": {
    "collapsed": true
   },
   "outputs": [],
   "source": [
    "from datetime import datetime, timedelta\n",
    "\n",
    "#df['A'] = pd.to_datetime(df['last_pymnt_d'])\n",
    "#df['A'].dtypes"
   ]
  },
  {
   "cell_type": "code",
   "execution_count": null,
   "metadata": {
    "collapsed": true
   },
   "outputs": [],
   "source": [
    "#df['B'] = pd.to_datetime(df['issue_d'])\n",
    "#df['B'].dtypes"
   ]
  },
  {
   "cell_type": "code",
   "execution_count": null,
   "metadata": {
    "collapsed": true
   },
   "outputs": [],
   "source": [
    "#df['Difference'] = df['A'] - df['B']"
   ]
  },
  {
   "cell_type": "code",
   "execution_count": null,
   "metadata": {
    "collapsed": true
   },
   "outputs": [],
   "source": [
    "#datefilter=df['Difference']<timedelta(days=180)"
   ]
  },
  {
   "cell_type": "code",
   "execution_count": null,
   "metadata": {},
   "outputs": [],
   "source": [
    "df['addr_state'].value_counts(normalize=True)"
   ]
  },
  {
   "cell_type": "code",
   "execution_count": null,
   "metadata": {},
   "outputs": [],
   "source": [
    "a7=df.pivot_table(index='addr_state',values='funded_amnt',aggfunc=sum)\n",
    "a7=a7.sort_values('funded_amnt',ascending=False)\n",
    "a7['funded_percent']=(a7['funded_amnt']/sum(a7['funded_amnt'])).round(2)\n",
    "#a7['combined']=a7['addr_state'].astype(str)+\" \"+a7['funded_percent'].astype(str)\n",
    "a7"
   ]
  },
  {
   "cell_type": "code",
   "execution_count": null,
   "metadata": {
    "collapsed": true
   },
   "outputs": [],
   "source": [
    "#desred_decimals = 1\n",
    "#a7['funded_percent_NEW'] = a7['funded_percent_NEW'].apply(lambda x: round(x,desred_decimals))"
   ]
  },
  {
   "cell_type": "code",
   "execution_count": null,
   "metadata": {},
   "outputs": [],
   "source": [
    "a7['funded_percent_NEW']=a7['funded_percent']*100\n",
    "a7"
   ]
  },
  {
   "cell_type": "code",
   "execution_count": null,
   "metadata": {},
   "outputs": [],
   "source": [
    "a7=df.pivot_table(index='addr_state',values='funded_amnt',aggfunc=sum)\n",
    "a7=a7.sort_values('funded_amnt',ascending=False)\n",
    "a7['funded_percent']=(a7['funded_amnt']/sum(a7['funded_amnt'])).round(2)\n",
    "c7=a7.reset_index()\n",
    "c7=c7.head(-4)\n",
    "d7=c7['addr_state']\n",
    "b7=c7['funded_amnt']\n",
    "print(list(d7))\n",
    "print(list(b7))"
   ]
  },
  {
   "cell_type": "code",
   "execution_count": null,
   "metadata": {
    "collapsed": true
   },
   "outputs": [],
   "source": [
    "#c7['funded_percent']=c7['funded_amnt']/sum(c7['funded_amnt'])\n",
    "#c7['funded_percent']=c7['funded_percent'].round(2)\n",
    "#c7['combined']=c7['addr_state'].astype(str)+\" \"+c7['funded_percent'].astype(str) + a7['funded_percent_NEW'].astype(str)\n",
    "#c7['combined']\n",
    "#c7\n",
    "#print(list(c7['combined']))\n",
    "\n",
    "#names = c7['combined'].head(-10)\n"
   ]
  },
  {
   "cell_type": "code",
   "execution_count": null,
   "metadata": {
    "collapsed": true
   },
   "outputs": [],
   "source": [
    "#c7"
   ]
  },
  {
   "cell_type": "code",
   "execution_count": null,
   "metadata": {
    "collapsed": true
   },
   "outputs": [],
   "source": [
    "def format_func(value, tick_number): \n",
    "    # find number of multiples of pi/2 \n",
    "    N = int(np.round(value*100)) \n",
    "    if N > 0: \n",
    "        return \"{:}%\".format(N) #// 2) \n",
    "    else: \n",
    "        return 0\n",
    "    ax.xaxis.set_major_formatter(plt.FuncFormatter(format_func))"
   ]
  },
  {
   "cell_type": "code",
   "execution_count": null,
   "metadata": {},
   "outputs": [],
   "source": [
    "# libraries\n",
    "import matplotlib.pyplot as plt\n",
    "import squarify    # pip install squarify (algorithm for treemap)\n",
    " \n",
    "# If you have 2 lists\n",
    "squarify.plot(sizes=list(b7), label=names, alpha=.5)\n",
    "plt.subplots_adjust(top=2, bottom=.1, left=.1, right=1.5, hspace=2,\n",
    "                    wspace=1)\n",
    "\n",
    "plt.axis('off')\n",
    "plt.title('Loans by State')\n",
    "ax.xaxis.set_major_formatter(plt.FuncFormatter(format_func))\n",
    "plt.show()\n"
   ]
  },
  {
   "cell_type": "code",
   "execution_count": 31,
   "metadata": {
    "collapsed": true
   },
   "outputs": [],
   "source": [
    "gradefilter=df['grade']=='G'\n",
    "df1=df[gradefilter]"
   ]
  },
  {
   "cell_type": "code",
   "execution_count": 32,
   "metadata": {},
   "outputs": [
    {
     "data": {
      "text/html": [
       "<div>\n",
       "<style scoped>\n",
       "    .dataframe tbody tr th:only-of-type {\n",
       "        vertical-align: middle;\n",
       "    }\n",
       "\n",
       "    .dataframe tbody tr th {\n",
       "        vertical-align: top;\n",
       "    }\n",
       "\n",
       "    .dataframe thead th {\n",
       "        text-align: right;\n",
       "    }\n",
       "</style>\n",
       "<table border=\"1\" class=\"dataframe\">\n",
       "  <thead>\n",
       "    <tr style=\"text-align: right;\">\n",
       "      <th></th>\n",
       "      <th>addr_state</th>\n",
       "      <th>funded_amnt</th>\n",
       "    </tr>\n",
       "  </thead>\n",
       "  <tbody>\n",
       "    <tr>\n",
       "      <th>34</th>\n",
       "      <td>SD</td>\n",
       "      <td>1.00</td>\n",
       "    </tr>\n",
       "    <tr>\n",
       "      <th>33</th>\n",
       "      <td>SC</td>\n",
       "      <td>0.50</td>\n",
       "    </tr>\n",
       "    <tr>\n",
       "      <th>16</th>\n",
       "      <td>LA</td>\n",
       "      <td>0.50</td>\n",
       "    </tr>\n",
       "    <tr>\n",
       "      <th>37</th>\n",
       "      <td>UT</td>\n",
       "      <td>0.43</td>\n",
       "    </tr>\n",
       "    <tr>\n",
       "      <th>28</th>\n",
       "      <td>OH</td>\n",
       "      <td>0.42</td>\n",
       "    </tr>\n",
       "    <tr>\n",
       "      <th>7</th>\n",
       "      <td>DC</td>\n",
       "      <td>0.40</td>\n",
       "    </tr>\n",
       "    <tr>\n",
       "      <th>9</th>\n",
       "      <td>FL</td>\n",
       "      <td>0.38</td>\n",
       "    </tr>\n",
       "    <tr>\n",
       "      <th>24</th>\n",
       "      <td>NJ</td>\n",
       "      <td>0.38</td>\n",
       "    </tr>\n",
       "    <tr>\n",
       "      <th>22</th>\n",
       "      <td>NC</td>\n",
       "      <td>0.38</td>\n",
       "    </tr>\n",
       "    <tr>\n",
       "      <th>3</th>\n",
       "      <td>AZ</td>\n",
       "      <td>0.37</td>\n",
       "    </tr>\n",
       "    <tr>\n",
       "      <th>27</th>\n",
       "      <td>NY</td>\n",
       "      <td>0.36</td>\n",
       "    </tr>\n",
       "    <tr>\n",
       "      <th>13</th>\n",
       "      <td>IN</td>\n",
       "      <td>0.36</td>\n",
       "    </tr>\n",
       "    <tr>\n",
       "      <th>6</th>\n",
       "      <td>CT</td>\n",
       "      <td>0.35</td>\n",
       "    </tr>\n",
       "    <tr>\n",
       "      <th>32</th>\n",
       "      <td>RI</td>\n",
       "      <td>0.33</td>\n",
       "    </tr>\n",
       "    <tr>\n",
       "      <th>0</th>\n",
       "      <td>AK</td>\n",
       "      <td>0.33</td>\n",
       "    </tr>\n",
       "    <tr>\n",
       "      <th>41</th>\n",
       "      <td>WV</td>\n",
       "      <td>0.33</td>\n",
       "    </tr>\n",
       "    <tr>\n",
       "      <th>8</th>\n",
       "      <td>DE</td>\n",
       "      <td>0.33</td>\n",
       "    </tr>\n",
       "    <tr>\n",
       "      <th>39</th>\n",
       "      <td>WA</td>\n",
       "      <td>0.32</td>\n",
       "    </tr>\n",
       "    <tr>\n",
       "      <th>1</th>\n",
       "      <td>AL</td>\n",
       "      <td>0.32</td>\n",
       "    </tr>\n",
       "    <tr>\n",
       "      <th>40</th>\n",
       "      <td>WI</td>\n",
       "      <td>0.32</td>\n",
       "    </tr>\n",
       "    <tr>\n",
       "      <th>4</th>\n",
       "      <td>CA</td>\n",
       "      <td>0.32</td>\n",
       "    </tr>\n",
       "    <tr>\n",
       "      <th>38</th>\n",
       "      <td>VA</td>\n",
       "      <td>0.31</td>\n",
       "    </tr>\n",
       "    <tr>\n",
       "      <th>19</th>\n",
       "      <td>MI</td>\n",
       "      <td>0.31</td>\n",
       "    </tr>\n",
       "    <tr>\n",
       "      <th>30</th>\n",
       "      <td>OR</td>\n",
       "      <td>0.31</td>\n",
       "    </tr>\n",
       "    <tr>\n",
       "      <th>12</th>\n",
       "      <td>IL</td>\n",
       "      <td>0.30</td>\n",
       "    </tr>\n",
       "    <tr>\n",
       "      <th>23</th>\n",
       "      <td>NH</td>\n",
       "      <td>0.30</td>\n",
       "    </tr>\n",
       "    <tr>\n",
       "      <th>5</th>\n",
       "      <td>CO</td>\n",
       "      <td>0.29</td>\n",
       "    </tr>\n",
       "    <tr>\n",
       "      <th>31</th>\n",
       "      <td>PA</td>\n",
       "      <td>0.28</td>\n",
       "    </tr>\n",
       "    <tr>\n",
       "      <th>20</th>\n",
       "      <td>MN</td>\n",
       "      <td>0.28</td>\n",
       "    </tr>\n",
       "    <tr>\n",
       "      <th>36</th>\n",
       "      <td>TX</td>\n",
       "      <td>0.26</td>\n",
       "    </tr>\n",
       "    <tr>\n",
       "      <th>2</th>\n",
       "      <td>AR</td>\n",
       "      <td>0.25</td>\n",
       "    </tr>\n",
       "    <tr>\n",
       "      <th>17</th>\n",
       "      <td>MA</td>\n",
       "      <td>0.25</td>\n",
       "    </tr>\n",
       "    <tr>\n",
       "      <th>26</th>\n",
       "      <td>NV</td>\n",
       "      <td>0.24</td>\n",
       "    </tr>\n",
       "    <tr>\n",
       "      <th>10</th>\n",
       "      <td>GA</td>\n",
       "      <td>0.23</td>\n",
       "    </tr>\n",
       "    <tr>\n",
       "      <th>42</th>\n",
       "      <td>WY</td>\n",
       "      <td>0.20</td>\n",
       "    </tr>\n",
       "    <tr>\n",
       "      <th>18</th>\n",
       "      <td>MD</td>\n",
       "      <td>0.20</td>\n",
       "    </tr>\n",
       "    <tr>\n",
       "      <th>29</th>\n",
       "      <td>OK</td>\n",
       "      <td>0.19</td>\n",
       "    </tr>\n",
       "    <tr>\n",
       "      <th>15</th>\n",
       "      <td>KY</td>\n",
       "      <td>0.17</td>\n",
       "    </tr>\n",
       "    <tr>\n",
       "      <th>11</th>\n",
       "      <td>HI</td>\n",
       "      <td>0.17</td>\n",
       "    </tr>\n",
       "    <tr>\n",
       "      <th>35</th>\n",
       "      <td>TN</td>\n",
       "      <td>0.12</td>\n",
       "    </tr>\n",
       "    <tr>\n",
       "      <th>21</th>\n",
       "      <td>MO</td>\n",
       "      <td>0.11</td>\n",
       "    </tr>\n",
       "    <tr>\n",
       "      <th>14</th>\n",
       "      <td>KS</td>\n",
       "      <td>0.09</td>\n",
       "    </tr>\n",
       "    <tr>\n",
       "      <th>25</th>\n",
       "      <td>NM</td>\n",
       "      <td>0.08</td>\n",
       "    </tr>\n",
       "  </tbody>\n",
       "</table>\n",
       "</div>"
      ],
      "text/plain": [
       "   addr_state  funded_amnt\n",
       "34         SD         1.00\n",
       "33         SC         0.50\n",
       "16         LA         0.50\n",
       "37         UT         0.43\n",
       "28         OH         0.42\n",
       "7          DC         0.40\n",
       "9          FL         0.38\n",
       "24         NJ         0.38\n",
       "22         NC         0.38\n",
       "3          AZ         0.37\n",
       "27         NY         0.36\n",
       "13         IN         0.36\n",
       "6          CT         0.35\n",
       "32         RI         0.33\n",
       "0          AK         0.33\n",
       "41         WV         0.33\n",
       "8          DE         0.33\n",
       "39         WA         0.32\n",
       "1          AL         0.32\n",
       "40         WI         0.32\n",
       "4          CA         0.32\n",
       "38         VA         0.31\n",
       "19         MI         0.31\n",
       "30         OR         0.31\n",
       "12         IL         0.30\n",
       "23         NH         0.30\n",
       "5          CO         0.29\n",
       "31         PA         0.28\n",
       "20         MN         0.28\n",
       "36         TX         0.26\n",
       "2          AR         0.25\n",
       "17         MA         0.25\n",
       "26         NV         0.24\n",
       "10         GA         0.23\n",
       "42         WY         0.20\n",
       "18         MD         0.20\n",
       "29         OK         0.19\n",
       "15         KY         0.17\n",
       "11         HI         0.17\n",
       "35         TN         0.12\n",
       "21         MO         0.11\n",
       "14         KS         0.09\n",
       "25         NM         0.08"
      ]
     },
     "execution_count": 32,
     "metadata": {},
     "output_type": "execute_result"
    }
   ],
   "source": [
    "#Charge Off Probability\n",
    "Total=df1.groupby(['addr_state'])['funded_amnt'].count()\n",
    "df1=df1[(df1.loan_status=='Charged Off')]\n",
    "df2=df1.groupby(['addr_state'])['funded_amnt'].count()\n",
    "df3=(df2/Total).round(2).dropna()\n",
    "df4=df3.reset_index()\n",
    "df4=df4.sort_values(by=['funded_amnt'],ascending = False)\n",
    "purpose = df4['addr_state']\n",
    "CO=df4['funded_amnt']\n",
    "df4\n",
    "#find out how to name the columns\n",
    "#sort by default"
   ]
  },
  {
   "cell_type": "code",
   "execution_count": 19,
   "metadata": {
    "collapsed": true
   },
   "outputs": [],
   "source": [
    "def format_func(value, tick_number): \n",
    "    # find number of multiples of pi/2 \n",
    "    N = int(np.round(value*100)) \n",
    "    if N > 0: \n",
    "        return \"{:}%\".format(N) #// 2) \n",
    "    else: \n",
    "        return 0\n",
    "    #ax.xaxis.set_major_formatter(plt.FuncFormatter(format_func))"
   ]
  },
  {
   "cell_type": "code",
   "execution_count": 20,
   "metadata": {},
   "outputs": [
    {
     "data": {
      "image/png": "[encoded data removed]",
      "text/plain": [
       "<matplotlib.figure.Figure at 0x105d877b8>"
      ]
     },
     "metadata": {},
     "output_type": "display_data"
    }
   ],
   "source": [
    "import matplotlib.pyplot as plt\n",
    "import numpy as np\n",
    "\n",
    "# Fixing random state for reproducibility\n",
    "#np.random.seed(19680801)\n",
    "\n",
    "plt.rcdefaults()\n",
    "fig, ax = plt.subplots()\n",
    "\n",
    "# Example data\n",
    "people = purpose\n",
    "y_pos = np.arange(len(people))\n",
    "performance = CO\n",
    "error = np.random.rand(len(people))\n",
    "\n",
    "ax.barh(y_pos, performance, color = 'green', )#xerr=error, align='center')\n",
    "        #color='green',ecolor='black')\n",
    "ax.set_yticks(y_pos)\n",
    "ax.set_yticklabels(people)\n",
    "ax.invert_yaxis()  # labels read top-to-bottom\n",
    "ax.set_xlabel('Default Rate')\n",
    "#ax.set_title('Default Rate by State')\n",
    "ax.set_xlim(0,.40)\n",
    "plt.subplots_adjust(top=2, bottom=.1, left=.1, right=1.5, hspace=2,\n",
    "                    wspace=.5)\n",
    "ax.xaxis.set_major_formatter(plt.FuncFormatter(format_func))\n",
    "plt.title('Default Rate by State')\n",
    "plt.show()"
   ]
  },
  {
   "cell_type": "code",
   "execution_count": null,
   "metadata": {
    "collapsed": true
   },
   "outputs": [],
   "source": [
    "df['performance']=(df['total_pymnt']-df['collection_recovery_fee']) / (df['funded_amnt']) - 1"
   ]
  },
  {
   "cell_type": "code",
   "execution_count": null,
   "metadata": {
    "collapsed": true
   },
   "outputs": [],
   "source": [
    "df['addr_state'].fillna(0, inplace=True)\n",
    "searchfor = ['IA','ID','DC','NH','WV','VT','KS','WY','CO','SC','MT','OR','CT','GA','IL','AK','TX','WA','WI']\n",
    "statefilter = df['addr_state'].str.contains('|'.join(searchfor),na=False)\n",
    "df1=df[statefilter]"
   ]
  },
  {
   "cell_type": "code",
   "execution_count": null,
   "metadata": {
    "collapsed": true
   },
   "outputs": [],
   "source": [
    "filter1 = df.addr_state =='NE'\n",
    "df[filter1].iloc[:, 30:50]\n"
   ]
  },
  {
   "cell_type": "code",
   "execution_count": null,
   "metadata": {
    "collapsed": true
   },
   "outputs": [],
   "source": []
  }
 ],
 "metadata": {
  "kernelspec": {
   "display_name": "Python 3",
   "language": "python",
   "name": "python3"
  },
  "language_info": {
   "codemirror_mode": {
    "name": "ipython",
    "version": 3
   },
   "file_extension": ".py",
   "mimetype": "text/x-python",
   "name": "python",
   "nbconvert_exporter": "python",
   "pygments_lexer": "ipython3",
   "version": "3.6.3"
  }
 },
 "nbformat": 4,
 "nbformat_minor": 2
}
