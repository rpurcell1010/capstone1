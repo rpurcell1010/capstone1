{
 "cells": [
  {
   "cell_type": "code",
   "execution_count": 1,
   "metadata": {},
   "outputs": [
    {
     "name": "stdout",
     "output_type": "stream",
     "text": [
      "<class 'pandas.core.frame.DataFrame'>\n",
      "Int64Index: 466352 entries, 0 to 42537\n",
      "Data columns (total 50 columns):\n",
      "id                            7 non-null object\n",
      "member_id                     0 non-null float64\n",
      "loan_amnt                     466345 non-null float64\n",
      "funded_amnt                   466345 non-null float64\n",
      "funded_amnt_inv               466345 non-null float64\n",
      "term                          466345 non-null object\n",
      "int_rate                      466345 non-null object\n",
      "installment                   466345 non-null float64\n",
      "grade                         466345 non-null object\n",
      "sub_grade                     466345 non-null object\n",
      "emp_title                     438746 non-null object\n",
      "emp_length                    445327 non-null object\n",
      "home_ownership                466345 non-null object\n",
      "annual_inc                    466341 non-null float64\n",
      "verification_status           466345 non-null object\n",
      "issue_d                       466345 non-null object\n",
      "loan_status                   466345 non-null object\n",
      "pymnt_plan                    466345 non-null object\n",
      "url                           0 non-null float64\n",
      "desc                          125999 non-null object\n",
      "purpose                       466345 non-null object\n",
      "title                         466325 non-null object\n",
      "zip_code                      466345 non-null object\n",
      "addr_state                    466345 non-null object\n",
      "dti                           466345 non-null float64\n",
      "delinq_2yrs                   466316 non-null float64\n",
      "earliest_cr_line              466316 non-null object\n",
      "inq_last_6mths                466316 non-null float64\n",
      "mths_since_last_delinq        215965 non-null float64\n",
      "mths_since_last_record        62649 non-null float64\n",
      "open_acc                      466316 non-null float64\n",
      "pub_rec                       466316 non-null float64\n",
      "revol_bal                     466345 non-null float64\n",
      "revol_util                    466005 non-null object\n",
      "total_acc                     466316 non-null float64\n",
      "initial_list_status           466345 non-null object\n",
      "out_prncp                     466345 non-null float64\n",
      "out_prncp_inv                 466345 non-null float64\n",
      "total_pymnt                   466345 non-null float64\n",
      "total_pymnt_inv               466345 non-null float64\n",
      "total_rec_prncp               466345 non-null float64\n",
      "total_rec_int                 466345 non-null float64\n",
      "total_rec_late_fee            466345 non-null float64\n",
      "recoveries                    466345 non-null float64\n",
      "collection_recovery_fee       466345 non-null float64\n",
      "last_pymnt_d                  465969 non-null object\n",
      "last_pymnt_amnt               466345 non-null float64\n",
      "next_pymnt_d                  42679 non-null object\n",
      "last_credit_pull_d            466304 non-null object\n",
      "collections_12_mths_ex_med    466200 non-null float64\n",
      "dtypes: float64(27), object(23)\n",
      "memory usage: 181.5+ MB\n"
     ]
    }
   ],
   "source": [
    "import glob\n",
    "import pandas as pd\n",
    "\n",
    "path ='/Users/ryanpurcell/Desktop/LendingClub Combined Data/' # use your path\n",
    "allFiles = glob.glob(path + \"/*.csv\")\n",
    "frame = pd.DataFrame()\n",
    "list_ = []\n",
    "for file_ in allFiles:\n",
    "    df = pd.read_csv(file_,index_col=None, header=0,usecols=[*range(0,50)], encoding = \"ISO-8859-1\", low_memory = False,skiprows=[0])\n",
    "    list_.append(df)\n",
    "df= pd.concat(list_)\n",
    "df.info()"
   ]
  },
  {
   "cell_type": "code",
   "execution_count": 2,
   "metadata": {
    "collapsed": true
   },
   "outputs": [],
   "source": [
    "#gradefilter=df['grade']=='B'\n",
    "#df=df[gradefilter]"
   ]
  },
  {
   "cell_type": "code",
   "execution_count": 3,
   "metadata": {
    "collapsed": true
   },
   "outputs": [],
   "source": [
    "#df filter for 36 month term\n",
    "#df['term']=df['term'].astype('str')\n",
    "#termfilter= df['term'].str.contains('36')\n",
    "#df=df.loc[termfilter]"
   ]
  },
  {
   "cell_type": "code",
   "execution_count": 4,
   "metadata": {
    "collapsed": true
   },
   "outputs": [],
   "source": [
    "#from datetime import datetime, timedelta\n",
    "\n",
    "#df['A'] = pd.to_datetime(df['last_pymnt_d'])\n",
    "#df['A'].dtypes"
   ]
  },
  {
   "cell_type": "code",
   "execution_count": 5,
   "metadata": {
    "collapsed": true
   },
   "outputs": [],
   "source": [
    "#df['B'] = pd.to_datetime(df['issue_d'])\n",
    "#df['B'].dtypes"
   ]
  },
  {
   "cell_type": "code",
   "execution_count": 6,
   "metadata": {
    "collapsed": true
   },
   "outputs": [],
   "source": [
    "#df['Difference'] = df['A'] - df['B']"
   ]
  },
  {
   "cell_type": "code",
   "execution_count": 7,
   "metadata": {
    "collapsed": true
   },
   "outputs": [],
   "source": [
    "#datefilter=df['Difference']<timedelta(days=180)"
   ]
  },
  {
   "cell_type": "code",
   "execution_count": 8,
   "metadata": {},
   "outputs": [
    {
     "name": "stdout",
     "output_type": "stream",
     "text": [
      "['MORTGAGE', 'OWN', 'RENT']\n",
      "[0.56, 0.08, 0.35]\n"
     ]
    }
   ],
   "source": [
    "#Home Ownership by FUNDED AMNT\n",
    "a4=(df.pivot_table(index='home_ownership',values='funded_amnt',aggfunc=sum)/df.pivot_table(index='home_ownership',values='funded_amnt',aggfunc=sum).sum()).round(2)\n",
    "c4=a4.reset_index()\n",
    "c4=c4.drop([0,2,3])\n",
    "d4=c4['home_ownership']\n",
    "b4=c4['funded_amnt']\n",
    "print(list(d4))\n",
    "print(list(b4))"
   ]
  },
  {
   "cell_type": "code",
   "execution_count": 9,
   "metadata": {},
   "outputs": [
    {
     "data": {
      "image/png": "[encoded data removed]",
      "text/plain": [
       "<matplotlib.figure.Figure at 0x10f2dbd30>"
      ]
     },
     "metadata": {},
     "output_type": "display_data"
    }
   ],
   "source": [
    "import matplotlib.pyplot as plt\n",
    " \n",
    "# Data to plot\n",
    "labels = list(d4)\n",
    "sizes = list(b4)\n",
    "colors = ['gold', 'yellowgreen', 'lightcoral', 'lightskyblue']\n",
    "#explode = (0.1, 0, 0, 0)  # explode 1st slice\n",
    " \n",
    "# Plot\n",
    "plt.pie(sizes, labels=labels, colors=colors,\n",
    "        autopct='%1.1f%%', shadow=True, startangle=140)\n",
    " \n",
    "plt.axis('equal')\n",
    "plt.title('Loans by Home Ownership')\n",
    "plt.show()"
   ]
  },
  {
   "cell_type": "code",
   "execution_count": 10,
   "metadata": {},
   "outputs": [
    {
     "data": {
      "text/html": [
       "<div>\n",
       "<style scoped>\n",
       "    .dataframe tbody tr th:only-of-type {\n",
       "        vertical-align: middle;\n",
       "    }\n",
       "\n",
       "    .dataframe tbody tr th {\n",
       "        vertical-align: top;\n",
       "    }\n",
       "\n",
       "    .dataframe thead th {\n",
       "        text-align: right;\n",
       "    }\n",
       "</style>\n",
       "<table border=\"1\" class=\"dataframe\">\n",
       "  <thead>\n",
       "    <tr style=\"text-align: right;\">\n",
       "      <th></th>\n",
       "      <th>home_ownership</th>\n",
       "      <th>funded_amnt</th>\n",
       "    </tr>\n",
       "  </thead>\n",
       "  <tbody>\n",
       "    <tr>\n",
       "      <th>5</th>\n",
       "      <td>RENT</td>\n",
       "      <td>0.18</td>\n",
       "    </tr>\n",
       "    <tr>\n",
       "      <th>4</th>\n",
       "      <td>OWN</td>\n",
       "      <td>0.16</td>\n",
       "    </tr>\n",
       "    <tr>\n",
       "      <th>1</th>\n",
       "      <td>MORTGAGE</td>\n",
       "      <td>0.14</td>\n",
       "    </tr>\n",
       "  </tbody>\n",
       "</table>\n",
       "</div>"
      ],
      "text/plain": [
       "  home_ownership  funded_amnt\n",
       "5           RENT         0.18\n",
       "4            OWN         0.16\n",
       "1       MORTGAGE         0.14"
      ]
     },
     "execution_count": 10,
     "metadata": {},
     "output_type": "execute_result"
    }
   ],
   "source": [
    "#Charge Off Probability\n",
    "Total=df.groupby(['home_ownership'])['funded_amnt'].count()\n",
    "df1=df[(df.loan_status=='Charged Off')]\n",
    "df2=df1.groupby(['home_ownership'])['funded_amnt'].count()\n",
    "df3=(df2/Total).round(2)\n",
    "df4=df3.reset_index()\n",
    "df4=df4.drop([0,2,3])\n",
    "df4=df4.sort_values(by=['funded_amnt'],ascending = False)\n",
    "purpose = df4['home_ownership']\n",
    "CO=df4['funded_amnt']\n",
    "df4\n",
    "#find out how to name the columns\n",
    "#sort by default"
   ]
  },
  {
   "cell_type": "code",
   "execution_count": 11,
   "metadata": {
    "collapsed": true
   },
   "outputs": [],
   "source": [
    "def format_func(value, tick_number): \n",
    "    # find number of multiples of pi/2 \n",
    "    N = int(np.round(value*100)) \n",
    "    if N > 0: \n",
    "        return \"{:}%\".format(N) #// 2) \n",
    "    else: \n",
    "        return 0\n",
    "    ax.xaxis.set_major_formatter(plt.FuncFormatter(format_func))"
   ]
  },
  {
   "cell_type": "code",
   "execution_count": 18,
   "metadata": {},
   "outputs": [
    {
     "data": {
      "image/png": "[encoded data removed]",
      "text/plain": [
       "<matplotlib.figure.Figure at 0x117fd1f98>"
      ]
     },
     "metadata": {},
     "output_type": "display_data"
    }
   ],
   "source": [
    "import matplotlib.pyplot as plt\n",
    "import numpy as np\n",
    "\n",
    "# Fixing random state for reproducibility\n",
    "#np.random.seed(19680801)\n",
    "\n",
    "plt.rcdefaults()\n",
    "fig, ax = plt.subplots()\n",
    "\n",
    "# Example data\n",
    "people = purpose\n",
    "y_pos = np.arange(len(people))\n",
    "performance = CO\n",
    "error = np.random.rand(len(people))\n",
    "\n",
    "ax.barh(y_pos, performance, color = 'green', )#xerr=error, align='center')\n",
    "        #color='green',ecolor='black')\n",
    "ax.set_yticks(y_pos)\n",
    "ax.set_yticklabels(people)\n",
    "ax.invert_yaxis()  # labels read top-to-bottom\n",
    "ax.set_xlabel('Default Rate')\n",
    "#ax.set_title('Default Rate by Loan Purpose')\n",
    "ax.set_xlim(0,.20)\n",
    "plt.title('Default Rate by Home Ownership')\n",
    "ax.xaxis.set_major_formatter(plt.FuncFormatter(format_func))\n",
    "plt.show()"
   ]
  },
  {
   "cell_type": "code",
   "execution_count": 13,
   "metadata": {
    "collapsed": true
   },
   "outputs": [],
   "source": [
    "df['performance']=(df['total_pymnt']/df['funded_amnt'])-1"
   ]
  },
  {
   "cell_type": "code",
   "execution_count": 14,
   "metadata": {},
   "outputs": [
    {
     "data": {
      "text/plain": [
       "Ttest_indResult(statistic=13.753613834252182, pvalue=4.9396279996595636e-43)"
      ]
     },
     "execution_count": 14,
     "metadata": {},
     "output_type": "execute_result"
    }
   ],
   "source": [
    "#df filter for 36 month term\n",
    "termfilterPurpose1= df['home_ownership'] == 'RENT'\n",
    "termfilterPurpose2= (df['home_ownership'] == 'OWN') | (df['home_ownership'] == 'MORTGAGE') \n",
    "dfPurpose1=df.loc[termfilterPurpose1]\n",
    "dfPurpose2=df.loc[termfilterPurpose2]\n",
    "\n",
    "pf = dfPurpose1['performance']\n",
    "pf1=dfPurpose2['performance']\n",
    "\n",
    "import scipy.stats as st\n",
    "st.ttest_ind(pf1,pf)"
   ]
  },
  {
   "cell_type": "code",
   "execution_count": 15,
   "metadata": {},
   "outputs": [
    {
     "data": {
      "text/plain": [
       "0.07786646916275809"
      ]
     },
     "execution_count": 15,
     "metadata": {},
     "output_type": "execute_result"
    }
   ],
   "source": [
    "dfPurpose1['performance'].mean()"
   ]
  },
  {
   "cell_type": "code",
   "execution_count": 16,
   "metadata": {},
   "outputs": [
    {
     "data": {
      "text/plain": [
       "0.08843163742244832"
      ]
     },
     "execution_count": 16,
     "metadata": {},
     "output_type": "execute_result"
    }
   ],
   "source": [
    "dfPurpose2['performance'].mean()"
   ]
  },
  {
   "cell_type": "code",
   "execution_count": 17,
   "metadata": {
    "collapsed": true
   },
   "outputs": [],
   "source": [
    "#remove other and none"
   ]
  }
 ],
 "metadata": {
  "kernelspec": {
   "display_name": "Python 3",
   "language": "python",
   "name": "python3"
  },
  "language_info": {
   "codemirror_mode": {
    "name": "ipython",
    "version": 3
   },
   "file_extension": ".py",
   "mimetype": "text/x-python",
   "name": "python",
   "nbconvert_exporter": "python",
   "pygments_lexer": "ipython3",
   "version": "3.6.3"
  }
 },
 "nbformat": 4,
 "nbformat_minor": 2
}
